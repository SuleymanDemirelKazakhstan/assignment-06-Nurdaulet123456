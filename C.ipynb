{
 "cells": [
  {
   "cell_type": "code",
   "execution_count": 1,
   "metadata": {},
   "outputs": [],
   "source": [
    "import spacy\n",
    "import pandas as pd\n",
    "import os"
   ]
  },
  {
   "cell_type": "code",
   "execution_count": 2,
   "metadata": {},
   "outputs": [],
   "source": [
    "nlp = spacy.load(\"en_core_web_sm\")"
   ]
  },
  {
   "cell_type": "code",
   "execution_count": 4,
   "metadata": {},
   "outputs": [],
   "source": [
    "words = {}\n",
    "business = {}\n",
    "entertainment = {}\n",
    "politics = {}\n",
    "sport = {}\n",
    "tech = {}"
   ]
  },
  {
   "cell_type": "code",
   "execution_count": 5,
   "metadata": {},
   "outputs": [],
   "source": [
    "\n",
    "cwd = os.getcwd() "
   ]
  },
  {
   "cell_type": "code",
   "execution_count": 46,
   "metadata": {},
   "outputs": [],
   "source": [
    "all = ['business', 'entertainment', 'politics', 'sport', 'tech']\n",
    "for a in all:\n",
    "    listDir = os.listdir(\"./bbc/\" +a+\"/\")\n",
    "    for file_addr in listDir:\n",
    "        df = pd.read_fwf(cwd + '/bbc/'+a+\"/\" + file_addr, encoding= 'unicode_escape')\n",
    "        for row in df.values:\n",
    "            doc = nlp(row[0])\n",
    "            for ents in doc.ents:\n",
    "                key = str(ents).strip()\n",
    "                words[key] = 1\n",
    "                if a == 'business':\n",
    "                    if business.get(key) != None:\n",
    "                        business[key] = business[key] + 1\n",
    "                    else:\n",
    "                        business[key] = 1\n",
    "                elif a == 'entertainment':\n",
    "                    if entertainment.get(key) != None:\n",
    "                        entertainment[key] = entertainment[key] + 1\n",
    "                    else:\n",
    "                        entertainment[key] = 1\n",
    "                elif a == 'politics':\n",
    "                    if politics.get(key) != None:\n",
    "                        politics[key] = politics[key] + 1\n",
    "                    else:\n",
    "                        politics[key] = 1\n",
    "                elif a == 'sport':\n",
    "                    if sport.get(key) != None:\n",
    "                        sport[key] = sport[key] + 1\n",
    "                    else:\n",
    "                        sport[key] = 1\n",
    "                elif a == 'tech':\n",
    "                    if tech.get(key) != None:\n",
    "                        tech[key] = tech[key] + 1\n",
    "                    else:\n",
    "                        tech[key] = 1\n",
    "\n",
    "               "
   ]
  },
  {
   "cell_type": "code",
   "execution_count": 47,
   "metadata": {},
   "outputs": [],
   "source": [
    "data = {\"words\": [],\n",
    "        'business':[], 'entertainment':[], 'politics':[], 'sport':[], 'tech':[] }\n",
    "for key in words.keys():\n",
    "        data[\"words\"].append(key)\n",
    "        data[\"business\"].append(business.get(key))\n",
    "        data[\"entertainment\"].append(entertainment.get(key))\n",
    "        data[\"politics\"].append(politics.get(key))\n",
    "        data[\"sport\"].append(sport.get(key))\n",
    "        data[\"tech\"].append(tech.get(key))"
   ]
  },
  {
   "cell_type": "code",
   "execution_count": 48,
   "metadata": {},
   "outputs": [],
   "source": [
    "df = pd.DataFrame(data=data)\n",
    "print(df)"
   ]
  }
 ],
 "metadata": {
  "kernelspec": {
   "display_name": "Python 3.10.4 64-bit",
   "language": "python",
   "name": "python3"
  },
  "language_info": {
   "codemirror_mode": {
    "name": "ipython",
    "version": 3
   },
   "file_extension": ".py",
   "mimetype": "text/x-python",
   "name": "python",
   "nbconvert_exporter": "python",
   "pygments_lexer": "ipython3",
   "version": "3.10.4"
  },
  "orig_nbformat": 4,
  "vscode": {
   "interpreter": {
    "hash": "916dbcbb3f70747c44a77c7bcd40155683ae19c65e1c03b4aa3499c5328201f1"
   }
  }
 },
 "nbformat": 4,
 "nbformat_minor": 2
}
